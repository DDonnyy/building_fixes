{
 "cells": [
  {
   "cell_type": "code",
   "execution_count": 2,
   "metadata": {
    "ExecuteTime": {
     "end_time": "2023-12-05T10:08:21.979932Z",
     "start_time": "2023-12-05T10:08:21.471842200Z"
    }
   },
   "outputs": [],
   "source": [
    "import psycopg2\n",
    "import pandas as pd\n",
    "#conn = psycopg2.connect(host='localhost', port=5432, dbname='city_db_test', user='postgres', password='postgres', application_name='select_maintenance')\n",
    "conn = psycopg2.connect(host='10.32.1.107', port=5432, dbname='city_db_final', user='postgres', password='postgres', application_name='select_maintenance')\n",
    "filename = 'maintenance_export_2023_12_05.xlsx'"
   ]
  },
  {
   "cell_type": "code",
   "execution_count": 2,
   "metadata": {
    "ExecuteTime": {
     "end_time": "2023-12-05T09:58:54.757336500Z",
     "start_time": "2023-12-05T09:58:53.961039300Z"
    }
   },
   "outputs": [
    {
     "name": "stderr",
     "output_type": "stream",
     "text": [
      "C:\\Users\\OEM\\AppData\\Local\\Programs\\Python\\Python311\\Lib\\site-packages\\openpyxl\\workbook\\child.py:99: UserWarning: Title is more than 31 characters. Some applications may not be able to read the file\n",
      "  warnings.warn(\"Title is more than 31 characters. Some applications may not be able to read the file\")\n"
     ]
    }
   ],
   "source": [
    "from pandas import ExcelWriter\n",
    "\n",
    "\n",
    "with conn, conn.cursor() as cur, ExcelWriter(filename, mode='w+') as writer:\n",
    "    cur.execute('SELECT id, name, code FROM social_groups ORDER BY code')\n",
    "    df = pd.DataFrame(cur.fetchall(), columns=[d.name for d in cur.description]).set_index('id')\n",
    "    df.to_excel(writer, 'social_groups')\n",
    "    \n",
    "    cur.execute('SELECT id, name FROM living_situations ORDER BY id')\n",
    "    df = pd.DataFrame(cur.fetchall(), columns=[d.name for d in cur.description]).set_index('id')\n",
    "    df.to_excel(writer, 'living_situations')\n",
    "\n",
    "    cur.execute('SELECT id, name FROM city_service_types ORDER BY id')\n",
    "    df = pd.DataFrame(cur.fetchall(), columns=[d.name for d in cur.description]).set_index('id')\n",
    "    df.to_excel(writer, 'city_service_types')\n",
    "\n",
    "    cur.execute('SELECT id, name FROM maintenance.value_groups ORDER BY id')\n",
    "    df = pd.DataFrame(cur.fetchall(), columns=[d.name for d in cur.description]).set_index('id')\n",
    "    df.to_excel(writer, 'value_groups')\n",
    "\n",
    "    cur.execute('SELECT id, name, (SELECT name from maintenance.value_groups WHERE id = group_id) group_name FROM maintenance.value_types ORDER BY id')\n",
    "    df = pd.DataFrame(cur.fetchall(), columns=[d.name for d in cur.description]).set_index('id')\n",
    "    df.to_excel(writer, 'value_types')\n",
    "\n",
    "    cur.execute('SELECT sg.name social_group, st.name city_service_type FROM social_groups sg'\n",
    "            ' JOIN maintenance.social_groups_city_service_types sgc ON sgc.social_group_id = sg.id'\n",
    "            ' JOIN city_service_types st ON sgc.city_service_type_id = st.id'\n",
    "            ' ORDER BY sg.code, st.id')\n",
    "    df = pd.DataFrame(cur.fetchall(), columns=[d.name for d in cur.description])\n",
    "    df.to_excel(writer, 'social_groups_city_service_types')\n",
    "    \n",
    "    cur.execute('SELECT sg.name social_group, vt.name value_type, ls.name living_situation FROM maintenance.social_groups_value_types_living_situations sgvtls'\n",
    "            ' JOIN social_groups sg ON sgvtls.social_group_id = sg.id'\n",
    "            ' JOIN maintenance.value_types vt ON sgvtls.value_type_id = vt.id'\n",
    "            ' JOIN living_situations ls ON sgvtls.living_situation_id = ls.id'\n",
    "            ' ORDER BY sg.id')\n",
    "    df = pd.DataFrame(cur.fetchall(), columns=[d.name for d in cur.description])\n",
    "    df.to_excel(writer, 'social_groups_value_types_living_situations')\n",
    "    \n",
    "    cur.execute('SELECT  cst.name city_service_name, ls.name living_situation FROM maintenance.living_situations_city_service_types lscst'\n",
    "            ' JOIN city_service_types cst ON lscst.city_service_type_id = cst.id'\n",
    "            ' JOIN living_situations ls ON lscst.living_situation_id = ls.id'\n",
    "            ' ORDER BY ls.id')\n",
    "    df = pd.DataFrame(cur.fetchall(), columns=[d.name for d in cur.description])\n",
    "    df.to_excel(writer, 'living_situation_city_service_type')\n"
   ]
  },
  {
   "cell_type": "code",
   "execution_count": null,
   "outputs": [],
   "source": [],
   "metadata": {
    "collapsed": false
   }
  }
 ],
 "metadata": {
  "kernelspec": {
   "display_name": "Python 3.10.6 64-bit",
   "language": "python",
   "name": "python3"
  },
  "language_info": {
   "codemirror_mode": {
    "name": "ipython",
    "version": 3
   },
   "file_extension": ".py",
   "mimetype": "text/x-python",
   "name": "python",
   "nbconvert_exporter": "python",
   "pygments_lexer": "ipython3",
   "version": "3.10.6"
  },
  "orig_nbformat": 4,
  "vscode": {
   "interpreter": {
    "hash": "e7370f93d1d0cde622a1f8e1c04877d8463912d04d973331ad4851f04de6915a"
   }
  }
 },
 "nbformat": 4,
 "nbformat_minor": 2
}
